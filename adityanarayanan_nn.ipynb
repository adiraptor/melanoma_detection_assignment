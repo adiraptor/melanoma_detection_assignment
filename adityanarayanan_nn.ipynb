{
 "cells": [
  {
   "cell_type": "markdown",
   "id": "5b226ccb-eeed-4ac6-91dc-a1fd9c021224",
   "metadata": {
    "tags": []
   },
   "source": [
    "# Melanoma Cancer Detection"
   ]
  },
  {
   "cell_type": "markdown",
   "id": "72f40d62-a57e-4727-ad3c-c1e4b8cd82ad",
   "metadata": {},
   "source": [
    "Problem statement: To build a CNN based model which can accurately detect melanoma. Melanoma is a type of cancer that can be deadly if not detected early. It accounts for 75% of skin cancer deaths. A solution which can evaluate images and alert the dermatologists about the presence of melanoma has the potential to reduce a lot of manual effort needed in diagnosis."
   ]
  },
  {
   "cell_type": "markdown",
   "id": "453f62c9-6f9c-4d03-814e-4f0d9caef5fa",
   "metadata": {},
   "source": [
    "### Importing Skin Cancer Data\n",
    "#### To do: Take necessary actions to read the data"
   ]
  },
  {
   "cell_type": "markdown",
   "id": "e52542a8-2c4e-4ff5-8d5a-5b95fa39ed05",
   "metadata": {
    "tags": []
   },
   "source": [
    "### Importing all the important libraries"
   ]
  },
  {
   "cell_type": "markdown",
   "id": "f1ff838e-e929-4748-b5fd-12bbe1803684",
   "metadata": {},
   "source": [
    "Installing libraries"
   ]
  },
  {
   "cell_type": "code",
   "execution_count": null,
   "id": "8d7ef223-6b09-47df-9ac3-1019eb10f123",
   "metadata": {
    "tags": []
   },
   "outputs": [],
   "source": [
    "!pip install -r requirements.txt"
   ]
  },
  {
   "cell_type": "code",
   "execution_count": 9,
   "id": "c97587ad-1a58-48be-ba00-2c595c67652a",
   "metadata": {
    "tags": []
   },
   "outputs": [],
   "source": [
    "import pathlib\n",
    "import tensorflow as tf\n",
    "import matplotlib.pyplot as plt\n",
    "import numpy as np\n",
    "import pandas as pd\n",
    "import os\n",
    "import PIL\n",
    "from tensorflow import keras\n",
    "from tensorflow.keras import layers\n",
    "from tensorflow.keras.models import Sequential"
   ]
  },
  {
   "cell_type": "code",
   "execution_count": null,
   "id": "69f1d9bd-a2bc-4f05-830a-887f1b30fa5c",
   "metadata": {},
   "outputs": [],
   "source": []
  }
 ],
 "metadata": {
  "kernelspec": {
   "display_name": "melanoma",
   "language": "python",
   "name": "melanoma"
  },
  "language_info": {
   "codemirror_mode": {
    "name": "ipython",
    "version": 3
   },
   "file_extension": ".py",
   "mimetype": "text/x-python",
   "name": "python",
   "nbconvert_exporter": "python",
   "pygments_lexer": "ipython3",
   "version": "3.8.10"
  }
 },
 "nbformat": 4,
 "nbformat_minor": 5
}
